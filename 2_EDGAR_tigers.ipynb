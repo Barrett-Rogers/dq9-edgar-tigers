{
 "cells": [
  {
   "cell_type": "code",
   "execution_count": 30,
   "metadata": {},
   "outputs": [],
   "source": [
    "import pandas as pd \n",
    "import numpy as np\n",
    "from bs4 import BeautifulSoup as BS\n",
    "import spacy\n",
    "import re\n",
    "from spacy.lang.en import English\n",
    "from spacy.matcher import Matcher\n",
    "from spacy import displacy \n",
    "from nltk.tokenize import sent_tokenize\n",
    "from nltk.tokenize import word_tokenize\n",
    "from nltk.corpus import stopwords"
   ]
  },
  {
   "cell_type": "code",
   "execution_count": 2,
   "metadata": {},
   "outputs": [],
   "source": [
    "fname = 'data/424B2_a19-18449_4424b2.htm'\n",
    "html_file = open(fname, 'r')\n",
    "source_code = html_file.read()"
   ]
  },
  {
   "cell_type": "raw",
   "metadata": {},
   "source": [
    "print(source_code)"
   ]
  },
  {
   "cell_type": "code",
   "execution_count": 4,
   "metadata": {},
   "outputs": [],
   "source": [
    "# soup = BS(response.text, 'html.parser')\n",
    "\n",
    "response = open('data/424B2_a19-18449_4424b2.htm')\n",
    "html_doc = response.read()"
   ]
  },
  {
   "cell_type": "raw",
   "metadata": {},
   "source": [
    "soup = BS(html_doc, 'html.parser')\n",
    "file = soup.prettify()\n",
    "print(file)"
   ]
  },
  {
   "cell_type": "code",
   "execution_count": 9,
   "metadata": {},
   "outputs": [
    {
     "data": {
      "text/plain": [
       "['Maturity', 'Date']"
      ]
     },
     "execution_count": 9,
     "metadata": {},
     "output_type": "execute_result"
    }
   ],
   "source": [
    "my_string = \"Maturity Date\"\n",
    "re.findall(r\"\\w+\", my_string)"
   ]
  },
  {
   "cell_type": "code",
   "execution_count": null,
   "metadata": {},
   "outputs": [],
   "source": [
    "# We need Maturity Date: and Date of Issue*: "
   ]
  },
  {
   "cell_type": "code",
   "execution_count": 19,
   "metadata": {},
   "outputs": [
    {
     "name": "stdout",
     "output_type": "stream",
     "text": [
      "['Dated', 'Dated', 'Dates', 'Dates', 'Dates']\n"
     ]
    }
   ],
   "source": [
    "capitalized_words = r\"Date\\w+\"\n",
    "print(re.findall(capitalized_words, file))"
   ]
  },
  {
   "cell_type": "raw",
   "metadata": {},
   "source": [
    "for string in soup.stripped_strings: \n",
    "    print(repr(string))"
   ]
  },
  {
   "cell_type": "code",
   "execution_count": 24,
   "metadata": {},
   "outputs": [],
   "source": [
    "test = []\n",
    "for string in soup.stripped_strings: \n",
    "    bond = repr(string)\n",
    "    test.append(bond)"
   ]
  },
  {
   "cell_type": "raw",
   "metadata": {},
   "source": [
    "test"
   ]
  },
  {
   "cell_type": "code",
   "execution_count": 28,
   "metadata": {},
   "outputs": [
    {
     "name": "stdout",
     "output_type": "stream",
     "text": [
      "['Dated', 'Dated', 'Dates', 'Dates', 'Dates']\n"
     ]
    }
   ],
   "source": [
    "print(re.findall(r\"Date\\w+\", str(test)))"
   ]
  },
  {
   "cell_type": "code",
   "execution_count": null,
   "metadata": {},
   "outputs": [],
   "source": []
  }
 ],
 "metadata": {
  "kernelspec": {
   "display_name": "Python 3",
   "language": "python",
   "name": "python3"
  },
  "language_info": {
   "codemirror_mode": {
    "name": "ipython",
    "version": 3
   },
   "file_extension": ".py",
   "mimetype": "text/x-python",
   "name": "python",
   "nbconvert_exporter": "python",
   "pygments_lexer": "ipython3",
   "version": "3.7.4"
  }
 },
 "nbformat": 4,
 "nbformat_minor": 2
}
